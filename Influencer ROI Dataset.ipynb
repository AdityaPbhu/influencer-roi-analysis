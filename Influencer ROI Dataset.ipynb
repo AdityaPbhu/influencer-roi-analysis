{
 "cells": [
  {
   "cell_type": "markdown",
   "id": "2872ca7f",
   "metadata": {},
   "source": [
    "## Step 1: Importing Required Libraries\n",
    "\n",
    "To start our analysis, I am importing the libraries needed for data handling, numerical computations, and visualization.\n",
    "\n",
    "- `pandas` is used for data manipulation and analysis.  \n",
    "- `numpy` helps in generating and working with numerical data.  \n",
    "- `matplotlib.pyplot` and `seaborn` are used to create meaningful visualizations that can communicate insights effectively.  \n",
    "- I also set some visualization preferences to make our charts easier to interpret.\n",
    "\n",
    "Let's import these libraries now.\n"
   ]
  },
  {
   "cell_type": "code",
   "execution_count": 2,
   "id": "773e1b51",
   "metadata": {},
   "outputs": [],
   "source": [
    "import pandas as pd\n",
    "import numpy as np\n",
    "import matplotlib.pyplot as plt\n",
    "import seaborn as sns\n",
    "\n",
    "# Set plotting aesthetics\n",
    "sns.set(style='whitegrid')\n",
    "plt.rcParams['figure.figsize'] = (12, 6)\n"
   ]
  },
  {
   "cell_type": "markdown",
   "id": "f00dfc9d",
   "metadata": {},
   "source": [
    "## Step 2: Loading and Exploring the Dataset\n",
    "\n",
    "For this project, I generated a synthetic dataset that simulates influencer marketing performance. Each row represents an influencer, with key metrics such as:\n",
    "\n",
    "- `followers`: The total number of social media followers.\n",
    "- `reach`: The estimated number of people reached through their content.\n",
    "- `engagement_rate (%)`: The percentage of people reached who engaged with the content.\n",
    "- `clicks`: The number of people who clicked through to the campaign.\n",
    "- `conversion_rate (%)`: The percentage of clicks that converted into sales.\n",
    "- `conversions`: The total number of conversions attributed to the influencer.\n",
    "- `CPC ($)`: The cost per click paid to the influencer.\n",
    "- `cost ($)`: The total cost spent on that influencer.\n",
    "- `revenue_per_conversion ($)`: The revenue earned per conversion.\n",
    "- `revenue ($)`: The total revenue generated.\n",
    "- `ROI`: The return on investment, calculated as `(revenue - cost) / cost`.\n",
    "\n",
    "Let's load and preview the first few rows of this dataset.\n"
   ]
  },
  {
   "cell_type": "code",
   "execution_count": 3,
   "id": "f974a808",
   "metadata": {},
   "outputs": [
    {
     "data": {
      "application/vnd.microsoft.datawrangler.viewer.v0+json": {
       "columns": [
        {
         "name": "index",
         "rawType": "int64",
         "type": "integer"
        },
        {
         "name": "influencer_id",
         "rawType": "object",
         "type": "string"
        },
        {
         "name": "followers",
         "rawType": "int64",
         "type": "integer"
        },
        {
         "name": "reach",
         "rawType": "int64",
         "type": "integer"
        },
        {
         "name": "engagement_rate (%)",
         "rawType": "float64",
         "type": "float"
        },
        {
         "name": "clicks",
         "rawType": "int64",
         "type": "integer"
        },
        {
         "name": "conversion_rate (%)",
         "rawType": "float64",
         "type": "float"
        },
        {
         "name": "conversions",
         "rawType": "int64",
         "type": "integer"
        },
        {
         "name": "CPC ($)",
         "rawType": "float64",
         "type": "float"
        },
        {
         "name": "cost ($)",
         "rawType": "float64",
         "type": "float"
        },
        {
         "name": "revenue_per_conversion ($)",
         "rawType": "float64",
         "type": "float"
        },
        {
         "name": "revenue ($)",
         "rawType": "float64",
         "type": "float"
        },
        {
         "name": "ROI",
         "rawType": "float64",
         "type": "float"
        }
       ],
       "ref": "bd72a06a-4d25-44af-8920-8e48929b4774",
       "rows": [
        [
         "0",
         "inf_001",
         "131958",
         "65330",
         "0.5",
         "326",
         "4.73",
         "15",
         "0.95",
         "309.7",
         "63.09",
         "946.35",
         "2.06"
        ],
        [
         "1",
         "inf_002",
         "681155",
         "274491",
         "3.85",
         "10567",
         "2.29",
         "241",
         "0.6",
         "6340.2",
         "98.1",
         "23642.1",
         "2.73"
        ],
        [
         "2",
         "inf_003",
         "141932",
         "79929",
         "3.4",
         "2717",
         "2.83",
         "76",
         "1.48",
         "4021.16",
         "53.81",
         "4089.56",
         "0.02"
        ],
        [
         "3",
         "inf_004",
         "375838",
         "159933",
         "2.06",
         "3294",
         "4.27",
         "140",
         "0.73",
         "2404.62",
         "91.55",
         "12817.0",
         "4.33"
        ],
        [
         "4",
         "inf_005",
         "269178",
         "150061",
         "5.57",
         "8358",
         "3.54",
         "295",
         "1.3",
         "10865.4",
         "49.1",
         "14484.5",
         "0.33"
        ]
       ],
       "shape": {
        "columns": 12,
        "rows": 5
       }
      },
      "text/html": [
       "<div>\n",
       "<style scoped>\n",
       "    .dataframe tbody tr th:only-of-type {\n",
       "        vertical-align: middle;\n",
       "    }\n",
       "\n",
       "    .dataframe tbody tr th {\n",
       "        vertical-align: top;\n",
       "    }\n",
       "\n",
       "    .dataframe thead th {\n",
       "        text-align: right;\n",
       "    }\n",
       "</style>\n",
       "<table border=\"1\" class=\"dataframe\">\n",
       "  <thead>\n",
       "    <tr style=\"text-align: right;\">\n",
       "      <th></th>\n",
       "      <th>influencer_id</th>\n",
       "      <th>followers</th>\n",
       "      <th>reach</th>\n",
       "      <th>engagement_rate (%)</th>\n",
       "      <th>clicks</th>\n",
       "      <th>conversion_rate (%)</th>\n",
       "      <th>conversions</th>\n",
       "      <th>CPC ($)</th>\n",
       "      <th>cost ($)</th>\n",
       "      <th>revenue_per_conversion ($)</th>\n",
       "      <th>revenue ($)</th>\n",
       "      <th>ROI</th>\n",
       "    </tr>\n",
       "  </thead>\n",
       "  <tbody>\n",
       "    <tr>\n",
       "      <th>0</th>\n",
       "      <td>inf_001</td>\n",
       "      <td>131958</td>\n",
       "      <td>65330</td>\n",
       "      <td>0.50</td>\n",
       "      <td>326</td>\n",
       "      <td>4.73</td>\n",
       "      <td>15</td>\n",
       "      <td>0.95</td>\n",
       "      <td>309.70</td>\n",
       "      <td>63.09</td>\n",
       "      <td>946.35</td>\n",
       "      <td>2.06</td>\n",
       "    </tr>\n",
       "    <tr>\n",
       "      <th>1</th>\n",
       "      <td>inf_002</td>\n",
       "      <td>681155</td>\n",
       "      <td>274491</td>\n",
       "      <td>3.85</td>\n",
       "      <td>10567</td>\n",
       "      <td>2.29</td>\n",
       "      <td>241</td>\n",
       "      <td>0.60</td>\n",
       "      <td>6340.20</td>\n",
       "      <td>98.10</td>\n",
       "      <td>23642.10</td>\n",
       "      <td>2.73</td>\n",
       "    </tr>\n",
       "    <tr>\n",
       "      <th>2</th>\n",
       "      <td>inf_003</td>\n",
       "      <td>141932</td>\n",
       "      <td>79929</td>\n",
       "      <td>3.40</td>\n",
       "      <td>2717</td>\n",
       "      <td>2.83</td>\n",
       "      <td>76</td>\n",
       "      <td>1.48</td>\n",
       "      <td>4021.16</td>\n",
       "      <td>53.81</td>\n",
       "      <td>4089.56</td>\n",
       "      <td>0.02</td>\n",
       "    </tr>\n",
       "    <tr>\n",
       "      <th>3</th>\n",
       "      <td>inf_004</td>\n",
       "      <td>375838</td>\n",
       "      <td>159933</td>\n",
       "      <td>2.06</td>\n",
       "      <td>3294</td>\n",
       "      <td>4.27</td>\n",
       "      <td>140</td>\n",
       "      <td>0.73</td>\n",
       "      <td>2404.62</td>\n",
       "      <td>91.55</td>\n",
       "      <td>12817.00</td>\n",
       "      <td>4.33</td>\n",
       "    </tr>\n",
       "    <tr>\n",
       "      <th>4</th>\n",
       "      <td>inf_005</td>\n",
       "      <td>269178</td>\n",
       "      <td>150061</td>\n",
       "      <td>5.57</td>\n",
       "      <td>8358</td>\n",
       "      <td>3.54</td>\n",
       "      <td>295</td>\n",
       "      <td>1.30</td>\n",
       "      <td>10865.40</td>\n",
       "      <td>49.10</td>\n",
       "      <td>14484.50</td>\n",
       "      <td>0.33</td>\n",
       "    </tr>\n",
       "  </tbody>\n",
       "</table>\n",
       "</div>"
      ],
      "text/plain": [
       "  influencer_id  followers   reach  engagement_rate (%)  clicks  \\\n",
       "0       inf_001     131958   65330                 0.50     326   \n",
       "1       inf_002     681155  274491                 3.85   10567   \n",
       "2       inf_003     141932   79929                 3.40    2717   \n",
       "3       inf_004     375838  159933                 2.06    3294   \n",
       "4       inf_005     269178  150061                 5.57    8358   \n",
       "\n",
       "   conversion_rate (%)  conversions  CPC ($)  cost ($)  \\\n",
       "0                 4.73           15     0.95    309.70   \n",
       "1                 2.29          241     0.60   6340.20   \n",
       "2                 2.83           76     1.48   4021.16   \n",
       "3                 4.27          140     0.73   2404.62   \n",
       "4                 3.54          295     1.30  10865.40   \n",
       "\n",
       "   revenue_per_conversion ($)  revenue ($)   ROI  \n",
       "0                       63.09       946.35  2.06  \n",
       "1                       98.10     23642.10  2.73  \n",
       "2                       53.81      4089.56  0.02  \n",
       "3                       91.55     12817.00  4.33  \n",
       "4                       49.10     14484.50  0.33  "
      ]
     },
     "execution_count": 3,
     "metadata": {},
     "output_type": "execute_result"
    }
   ],
   "source": [
    "import os\n",
    "\n",
    "# Path to the dataset in your Downloads folder\n",
    "file_path = os.path.expanduser(\"~/Downloads/influencer_roi_dataset.csv\")\n",
    "\n",
    "# Load the dataset\n",
    "df = pd.read_csv(file_path)\n",
    "\n",
    "# Preview the first few rows\n",
    "df.head()\n"
   ]
  },
  {
   "cell_type": "markdown",
   "id": "5ff89bbd",
   "metadata": {},
   "source": [
    "## Step 3: Summary Statistics and Feature Overview\n",
    "\n",
    "Now that the dataset is loaded, I want to understand the distribution of key metrics. This will help identify outliers, skewed variables, and general trends in influencer performance.\n",
    "\n",
    "In this step, I’ll use `.info()` to inspect data types and missing values, and `.describe()` to summarize numerical features such as cost, revenue, and ROI.\n",
    "\n",
    "This provides an essential baseline before diving into more advanced analysis.\n"
   ]
  },
  {
   "cell_type": "code",
   "execution_count": 4,
   "id": "7d00dc23",
   "metadata": {},
   "outputs": [
    {
     "name": "stdout",
     "output_type": "stream",
     "text": [
      "<class 'pandas.core.frame.DataFrame'>\n",
      "RangeIndex: 50 entries, 0 to 49\n",
      "Data columns (total 12 columns):\n",
      " #   Column                      Non-Null Count  Dtype  \n",
      "---  ------                      --------------  -----  \n",
      " 0   influencer_id               50 non-null     object \n",
      " 1   followers                   50 non-null     int64  \n",
      " 2   reach                       50 non-null     int64  \n",
      " 3   engagement_rate (%)         50 non-null     float64\n",
      " 4   clicks                      50 non-null     int64  \n",
      " 5   conversion_rate (%)         50 non-null     float64\n",
      " 6   conversions                 50 non-null     int64  \n",
      " 7   CPC ($)                     50 non-null     float64\n",
      " 8   cost ($)                    50 non-null     float64\n",
      " 9   revenue_per_conversion ($)  50 non-null     float64\n",
      " 10  revenue ($)                 50 non-null     float64\n",
      " 11  ROI                         50 non-null     float64\n",
      "dtypes: float64(7), int64(4), object(1)\n",
      "memory usage: 4.8+ KB\n"
     ]
    },
    {
     "data": {
      "application/vnd.microsoft.datawrangler.viewer.v0+json": {
       "columns": [
        {
         "name": "index",
         "rawType": "object",
         "type": "string"
        },
        {
         "name": "count",
         "rawType": "float64",
         "type": "float"
        },
        {
         "name": "mean",
         "rawType": "float64",
         "type": "float"
        },
        {
         "name": "std",
         "rawType": "float64",
         "type": "float"
        },
        {
         "name": "min",
         "rawType": "float64",
         "type": "float"
        },
        {
         "name": "25%",
         "rawType": "float64",
         "type": "float"
        },
        {
         "name": "50%",
         "rawType": "float64",
         "type": "float"
        },
        {
         "name": "75%",
         "rawType": "float64",
         "type": "float"
        },
        {
         "name": "max",
         "rawType": "float64",
         "type": "float"
        }
       ],
       "ref": "fd3093a0-153b-46ba-90a0-35cdb243002c",
       "rows": [
        [
         "followers",
         "50.0",
         "417807.14",
         "292531.419150289",
         "51090.0",
         "161309.75",
         "338217.0",
         "663144.0",
         "999436.0"
        ],
        [
         "reach",
         "50.0",
         "153761.76",
         "125378.7612764081",
         "8994.0",
         "54693.25",
         "107245.5",
         "262761.75",
         "431181.0"
        ],
        [
         "engagement_rate (%)",
         "50.0",
         "4.8084",
         "2.556498210842483",
         "0.5",
         "2.8274999999999997",
         "4.37",
         "7.0525",
         "9.98"
        ],
        [
         "clicks",
         "50.0",
         "7881.04",
         "9099.629144629791",
         "212.0",
         "2400.25",
         "4138.0",
         "9091.5",
         "35500.0"
        ],
        [
         "conversion_rate (%)",
         "50.0",
         "3.0958000000000006",
         "1.251087836848478",
         "0.58",
         "1.9549999999999998",
         "2.9749999999999996",
         "4.3",
         "4.98"
        ],
        [
         "conversions",
         "50.0",
         "264.82",
         "358.3615600969251",
         "2.0",
         "52.5",
         "121.0",
         "265.75",
         "1530.0"
        ],
        [
         "CPC ($)",
         "50.0",
         "0.76",
         "0.40936984924318465",
         "0.07",
         "0.4575",
         "0.715",
         "1.07",
         "1.48"
        ],
        [
         "cost ($)",
         "50.0",
         "5960.472999999999",
         "8767.4213198202",
         "131.44",
         "1052.4825",
         "2458.035",
         "6649.71",
         "41217.85"
        ],
        [
         "revenue_per_conversion ($)",
         "50.0",
         "54.583800000000004",
         "25.501747030190632",
         "10.47",
         "35.515",
         "52.989999999999995",
         "72.95",
         "99.51"
        ],
        [
         "revenue ($)",
         "50.0",
         "13857.7724",
         "19572.20356451617",
         "94.23",
         "2271.7650000000003",
         "6103.389999999999",
         "14142.875",
         "91417.5"
        ],
        [
         "ROI",
         "50.0",
         "4.0804",
         "8.804094585440785",
         "-0.85",
         "0.19",
         "0.86",
         "4.0825000000000005",
         "42.21"
        ]
       ],
       "shape": {
        "columns": 8,
        "rows": 11
       }
      },
      "text/html": [
       "<div>\n",
       "<style scoped>\n",
       "    .dataframe tbody tr th:only-of-type {\n",
       "        vertical-align: middle;\n",
       "    }\n",
       "\n",
       "    .dataframe tbody tr th {\n",
       "        vertical-align: top;\n",
       "    }\n",
       "\n",
       "    .dataframe thead th {\n",
       "        text-align: right;\n",
       "    }\n",
       "</style>\n",
       "<table border=\"1\" class=\"dataframe\">\n",
       "  <thead>\n",
       "    <tr style=\"text-align: right;\">\n",
       "      <th></th>\n",
       "      <th>count</th>\n",
       "      <th>mean</th>\n",
       "      <th>std</th>\n",
       "      <th>min</th>\n",
       "      <th>25%</th>\n",
       "      <th>50%</th>\n",
       "      <th>75%</th>\n",
       "      <th>max</th>\n",
       "    </tr>\n",
       "  </thead>\n",
       "  <tbody>\n",
       "    <tr>\n",
       "      <th>followers</th>\n",
       "      <td>50.0</td>\n",
       "      <td>417807.1400</td>\n",
       "      <td>292531.419150</td>\n",
       "      <td>51090.00</td>\n",
       "      <td>161309.7500</td>\n",
       "      <td>338217.000</td>\n",
       "      <td>663144.0000</td>\n",
       "      <td>999436.00</td>\n",
       "    </tr>\n",
       "    <tr>\n",
       "      <th>reach</th>\n",
       "      <td>50.0</td>\n",
       "      <td>153761.7600</td>\n",
       "      <td>125378.761276</td>\n",
       "      <td>8994.00</td>\n",
       "      <td>54693.2500</td>\n",
       "      <td>107245.500</td>\n",
       "      <td>262761.7500</td>\n",
       "      <td>431181.00</td>\n",
       "    </tr>\n",
       "    <tr>\n",
       "      <th>engagement_rate (%)</th>\n",
       "      <td>50.0</td>\n",
       "      <td>4.8084</td>\n",
       "      <td>2.556498</td>\n",
       "      <td>0.50</td>\n",
       "      <td>2.8275</td>\n",
       "      <td>4.370</td>\n",
       "      <td>7.0525</td>\n",
       "      <td>9.98</td>\n",
       "    </tr>\n",
       "    <tr>\n",
       "      <th>clicks</th>\n",
       "      <td>50.0</td>\n",
       "      <td>7881.0400</td>\n",
       "      <td>9099.629145</td>\n",
       "      <td>212.00</td>\n",
       "      <td>2400.2500</td>\n",
       "      <td>4138.000</td>\n",
       "      <td>9091.5000</td>\n",
       "      <td>35500.00</td>\n",
       "    </tr>\n",
       "    <tr>\n",
       "      <th>conversion_rate (%)</th>\n",
       "      <td>50.0</td>\n",
       "      <td>3.0958</td>\n",
       "      <td>1.251088</td>\n",
       "      <td>0.58</td>\n",
       "      <td>1.9550</td>\n",
       "      <td>2.975</td>\n",
       "      <td>4.3000</td>\n",
       "      <td>4.98</td>\n",
       "    </tr>\n",
       "    <tr>\n",
       "      <th>conversions</th>\n",
       "      <td>50.0</td>\n",
       "      <td>264.8200</td>\n",
       "      <td>358.361560</td>\n",
       "      <td>2.00</td>\n",
       "      <td>52.5000</td>\n",
       "      <td>121.000</td>\n",
       "      <td>265.7500</td>\n",
       "      <td>1530.00</td>\n",
       "    </tr>\n",
       "    <tr>\n",
       "      <th>CPC ($)</th>\n",
       "      <td>50.0</td>\n",
       "      <td>0.7600</td>\n",
       "      <td>0.409370</td>\n",
       "      <td>0.07</td>\n",
       "      <td>0.4575</td>\n",
       "      <td>0.715</td>\n",
       "      <td>1.0700</td>\n",
       "      <td>1.48</td>\n",
       "    </tr>\n",
       "    <tr>\n",
       "      <th>cost ($)</th>\n",
       "      <td>50.0</td>\n",
       "      <td>5960.4730</td>\n",
       "      <td>8767.421320</td>\n",
       "      <td>131.44</td>\n",
       "      <td>1052.4825</td>\n",
       "      <td>2458.035</td>\n",
       "      <td>6649.7100</td>\n",
       "      <td>41217.85</td>\n",
       "    </tr>\n",
       "    <tr>\n",
       "      <th>revenue_per_conversion ($)</th>\n",
       "      <td>50.0</td>\n",
       "      <td>54.5838</td>\n",
       "      <td>25.501747</td>\n",
       "      <td>10.47</td>\n",
       "      <td>35.5150</td>\n",
       "      <td>52.990</td>\n",
       "      <td>72.9500</td>\n",
       "      <td>99.51</td>\n",
       "    </tr>\n",
       "    <tr>\n",
       "      <th>revenue ($)</th>\n",
       "      <td>50.0</td>\n",
       "      <td>13857.7724</td>\n",
       "      <td>19572.203565</td>\n",
       "      <td>94.23</td>\n",
       "      <td>2271.7650</td>\n",
       "      <td>6103.390</td>\n",
       "      <td>14142.8750</td>\n",
       "      <td>91417.50</td>\n",
       "    </tr>\n",
       "    <tr>\n",
       "      <th>ROI</th>\n",
       "      <td>50.0</td>\n",
       "      <td>4.0804</td>\n",
       "      <td>8.804095</td>\n",
       "      <td>-0.85</td>\n",
       "      <td>0.1900</td>\n",
       "      <td>0.860</td>\n",
       "      <td>4.0825</td>\n",
       "      <td>42.21</td>\n",
       "    </tr>\n",
       "  </tbody>\n",
       "</table>\n",
       "</div>"
      ],
      "text/plain": [
       "                            count         mean            std       min  \\\n",
       "followers                    50.0  417807.1400  292531.419150  51090.00   \n",
       "reach                        50.0  153761.7600  125378.761276   8994.00   \n",
       "engagement_rate (%)          50.0       4.8084       2.556498      0.50   \n",
       "clicks                       50.0    7881.0400    9099.629145    212.00   \n",
       "conversion_rate (%)          50.0       3.0958       1.251088      0.58   \n",
       "conversions                  50.0     264.8200     358.361560      2.00   \n",
       "CPC ($)                      50.0       0.7600       0.409370      0.07   \n",
       "cost ($)                     50.0    5960.4730    8767.421320    131.44   \n",
       "revenue_per_conversion ($)   50.0      54.5838      25.501747     10.47   \n",
       "revenue ($)                  50.0   13857.7724   19572.203565     94.23   \n",
       "ROI                          50.0       4.0804       8.804095     -0.85   \n",
       "\n",
       "                                    25%         50%          75%        max  \n",
       "followers                   161309.7500  338217.000  663144.0000  999436.00  \n",
       "reach                        54693.2500  107245.500  262761.7500  431181.00  \n",
       "engagement_rate (%)              2.8275       4.370       7.0525       9.98  \n",
       "clicks                        2400.2500    4138.000    9091.5000   35500.00  \n",
       "conversion_rate (%)              1.9550       2.975       4.3000       4.98  \n",
       "conversions                     52.5000     121.000     265.7500    1530.00  \n",
       "CPC ($)                          0.4575       0.715       1.0700       1.48  \n",
       "cost ($)                      1052.4825    2458.035    6649.7100   41217.85  \n",
       "revenue_per_conversion ($)      35.5150      52.990      72.9500      99.51  \n",
       "revenue ($)                   2271.7650    6103.390   14142.8750   91417.50  \n",
       "ROI                              0.1900       0.860       4.0825      42.21  "
      ]
     },
     "execution_count": 4,
     "metadata": {},
     "output_type": "execute_result"
    }
   ],
   "source": [
    "# Check the structure and data types\n",
    "df.info()\n",
    "\n",
    "# Summary statistics for numeric columns\n",
    "df.describe().T\n"
   ]
  },
  {
   "cell_type": "markdown",
   "id": "b70e1db3",
   "metadata": {},
   "source": [
    "## Step 4: ROI Distribution and Performance Insights\n",
    "\n",
    "Return on Investment (ROI) is the core metric in this analysis. It tells us how much return was generated for every dollar spent on an influencer.\n",
    "\n",
    "In this step, I want to explore the distribution of ROI across all influencers. A visual histogram will help me understand whether most influencers performed well or if only a few delivered significant value.\n",
    "\n",
    "I’ll also generate a boxplot to identify potential outliers  influencers with either extremely high or negative ROI.\n"
   ]
  },
  {
   "cell_type": "code",
   "execution_count": 5,
   "id": "2f932209",
   "metadata": {},
   "outputs": [
    {
     "data": {
      "image/png": "[encoded data removed]",
      "text/plain": [
       "<Figure size 1000x500 with 1 Axes>"
      ]
     },
     "metadata": {},
     "output_type": "display_data"
    },
    {
     "data": {
      "image/png": "[encoded data removed]",
      "text/plain": [
       "<Figure size 1000x200 with 1 Axes>"
      ]
     },
     "metadata": {},
     "output_type": "display_data"
    }
   ],
   "source": [
    "# Histogram of ROI\n",
    "plt.figure(figsize=(10, 5))\n",
    "sns.histplot(df['ROI'], bins=20, kde=True, color='skyblue')\n",
    "plt.axvline(0, color='red', linestyle='--')\n",
    "plt.title(\"Distribution of Influencer ROI\")\n",
    "plt.xlabel(\"ROI\")\n",
    "plt.ylabel(\"Number of Influencers\")\n",
    "plt.show()\n",
    "\n",
    "# Boxplot to check for outliers\n",
    "plt.figure(figsize=(10, 2))\n",
    "sns.boxplot(x=df['ROI'], color='lightgreen')\n",
    "plt.title(\"Boxplot of ROI\")\n",
    "plt.show()\n"
   ]
  },
  {
   "cell_type": "markdown",
   "id": "ac067036",
   "metadata": {},
   "source": [
    "## Step 5: Identifying Top and Bottom Performing Influencers\n",
    "\n",
    "To translate this analysis into actionable strategy, I want to identify the best and worst performers based on ROI.\n",
    "\n",
    "This step involves sorting the influencers by ROI to reveal who delivered the most value and who might not be worth further investment.\n",
    "\n",
    "We'll extract:\n",
    "- The top 5 influencers with the highest ROI\n",
    "- The bottom 5 influencers with the lowest ROI\n"
   ]
  },
  {
   "cell_type": "code",
   "execution_count": 6,
   "id": "a59a463e",
   "metadata": {},
   "outputs": [
    {
     "name": "stdout",
     "output_type": "stream",
     "text": [
      "Top 5 Influencers by ROI:\n"
     ]
    },
    {
     "data": {
      "application/vnd.microsoft.datawrangler.viewer.v0+json": {
       "columns": [
        {
         "name": "index",
         "rawType": "int64",
         "type": "integer"
        },
        {
         "name": "influencer_id",
         "rawType": "object",
         "type": "string"
        },
        {
         "name": "ROI",
         "rawType": "float64",
         "type": "float"
        },
        {
         "name": "revenue ($)",
         "rawType": "float64",
         "type": "float"
        },
        {
         "name": "cost ($)",
         "rawType": "float64",
         "type": "float"
        },
        {
         "name": "conversions",
         "rawType": "int64",
         "type": "integer"
        }
       ],
       "ref": "11ff27d6-20f9-48c7-9a85-bc2b321df188",
       "rows": [
        [
         "11",
         "inf_012",
         "42.21",
         "66951.72",
         "1549.59",
         "1089"
        ],
        [
         "43",
         "inf_044",
         "31.86",
         "71640.25",
         "2180.29",
         "1199"
        ],
        [
         "7",
         "inf_008",
         "28.3",
         "6879.6",
         "234.78",
         "98"
        ],
        [
         "47",
         "inf_048",
         "24.72",
         "6178.8",
         "240.24",
         "95"
        ],
        [
         "17",
         "inf_018",
         "12.32",
         "38578.81",
         "2896.2",
         "431"
        ]
       ],
       "shape": {
        "columns": 5,
        "rows": 5
       }
      },
      "text/html": [
       "<div>\n",
       "<style scoped>\n",
       "    .dataframe tbody tr th:only-of-type {\n",
       "        vertical-align: middle;\n",
       "    }\n",
       "\n",
       "    .dataframe tbody tr th {\n",
       "        vertical-align: top;\n",
       "    }\n",
       "\n",
       "    .dataframe thead th {\n",
       "        text-align: right;\n",
       "    }\n",
       "</style>\n",
       "<table border=\"1\" class=\"dataframe\">\n",
       "  <thead>\n",
       "    <tr style=\"text-align: right;\">\n",
       "      <th></th>\n",
       "      <th>influencer_id</th>\n",
       "      <th>ROI</th>\n",
       "      <th>revenue ($)</th>\n",
       "      <th>cost ($)</th>\n",
       "      <th>conversions</th>\n",
       "    </tr>\n",
       "  </thead>\n",
       "  <tbody>\n",
       "    <tr>\n",
       "      <th>11</th>\n",
       "      <td>inf_012</td>\n",
       "      <td>42.21</td>\n",
       "      <td>66951.72</td>\n",
       "      <td>1549.59</td>\n",
       "      <td>1089</td>\n",
       "    </tr>\n",
       "    <tr>\n",
       "      <th>43</th>\n",
       "      <td>inf_044</td>\n",
       "      <td>31.86</td>\n",
       "      <td>71640.25</td>\n",
       "      <td>2180.29</td>\n",
       "      <td>1199</td>\n",
       "    </tr>\n",
       "    <tr>\n",
       "      <th>7</th>\n",
       "      <td>inf_008</td>\n",
       "      <td>28.30</td>\n",
       "      <td>6879.60</td>\n",
       "      <td>234.78</td>\n",
       "      <td>98</td>\n",
       "    </tr>\n",
       "    <tr>\n",
       "      <th>47</th>\n",
       "      <td>inf_048</td>\n",
       "      <td>24.72</td>\n",
       "      <td>6178.80</td>\n",
       "      <td>240.24</td>\n",
       "      <td>95</td>\n",
       "    </tr>\n",
       "    <tr>\n",
       "      <th>17</th>\n",
       "      <td>inf_018</td>\n",
       "      <td>12.32</td>\n",
       "      <td>38578.81</td>\n",
       "      <td>2896.20</td>\n",
       "      <td>431</td>\n",
       "    </tr>\n",
       "  </tbody>\n",
       "</table>\n",
       "</div>"
      ],
      "text/plain": [
       "   influencer_id    ROI  revenue ($)  cost ($)  conversions\n",
       "11       inf_012  42.21     66951.72   1549.59         1089\n",
       "43       inf_044  31.86     71640.25   2180.29         1199\n",
       "7        inf_008  28.30      6879.60    234.78           98\n",
       "47       inf_048  24.72      6178.80    240.24           95\n",
       "17       inf_018  12.32     38578.81   2896.20          431"
      ]
     },
     "metadata": {},
     "output_type": "display_data"
    },
    {
     "name": "stdout",
     "output_type": "stream",
     "text": [
      "Bottom 5 Influencers by ROI:\n"
     ]
    },
    {
     "data": {
      "application/vnd.microsoft.datawrangler.viewer.v0+json": {
       "columns": [
        {
         "name": "index",
         "rawType": "int64",
         "type": "integer"
        },
        {
         "name": "influencer_id",
         "rawType": "object",
         "type": "string"
        },
        {
         "name": "ROI",
         "rawType": "float64",
         "type": "float"
        },
        {
         "name": "revenue ($)",
         "rawType": "float64",
         "type": "float"
        },
        {
         "name": "cost ($)",
         "rawType": "float64",
         "type": "float"
        },
        {
         "name": "conversions",
         "rawType": "int64",
         "type": "integer"
        }
       ],
       "ref": "4ee640a3-febb-4546-a168-0f285aabf8a7",
       "rows": [
        [
         "49",
         "inf_050",
         "-0.85",
         "94.23",
         "610.2",
         "9"
        ],
        [
         "33",
         "inf_034",
         "-0.8",
         "1993.48",
         "9950.4",
         "122"
        ],
        [
         "39",
         "inf_040",
         "-0.78",
         "429.33",
         "1913.01",
         "11"
        ],
        [
         "38",
         "inf_039",
         "-0.68",
         "4901.72",
         "15142.35",
         "134"
        ],
        [
         "34",
         "inf_035",
         "-0.58",
         "17452.8",
         "41217.85",
         "606"
        ]
       ],
       "shape": {
        "columns": 5,
        "rows": 5
       }
      },
      "text/html": [
       "<div>\n",
       "<style scoped>\n",
       "    .dataframe tbody tr th:only-of-type {\n",
       "        vertical-align: middle;\n",
       "    }\n",
       "\n",
       "    .dataframe tbody tr th {\n",
       "        vertical-align: top;\n",
       "    }\n",
       "\n",
       "    .dataframe thead th {\n",
       "        text-align: right;\n",
       "    }\n",
       "</style>\n",
       "<table border=\"1\" class=\"dataframe\">\n",
       "  <thead>\n",
       "    <tr style=\"text-align: right;\">\n",
       "      <th></th>\n",
       "      <th>influencer_id</th>\n",
       "      <th>ROI</th>\n",
       "      <th>revenue ($)</th>\n",
       "      <th>cost ($)</th>\n",
       "      <th>conversions</th>\n",
       "    </tr>\n",
       "  </thead>\n",
       "  <tbody>\n",
       "    <tr>\n",
       "      <th>49</th>\n",
       "      <td>inf_050</td>\n",
       "      <td>-0.85</td>\n",
       "      <td>94.23</td>\n",
       "      <td>610.20</td>\n",
       "      <td>9</td>\n",
       "    </tr>\n",
       "    <tr>\n",
       "      <th>33</th>\n",
       "      <td>inf_034</td>\n",
       "      <td>-0.80</td>\n",
       "      <td>1993.48</td>\n",
       "      <td>9950.40</td>\n",
       "      <td>122</td>\n",
       "    </tr>\n",
       "    <tr>\n",
       "      <th>39</th>\n",
       "      <td>inf_040</td>\n",
       "      <td>-0.78</td>\n",
       "      <td>429.33</td>\n",
       "      <td>1913.01</td>\n",
       "      <td>11</td>\n",
       "    </tr>\n",
       "    <tr>\n",
       "      <th>38</th>\n",
       "      <td>inf_039</td>\n",
       "      <td>-0.68</td>\n",
       "      <td>4901.72</td>\n",
       "      <td>15142.35</td>\n",
       "      <td>134</td>\n",
       "    </tr>\n",
       "    <tr>\n",
       "      <th>34</th>\n",
       "      <td>inf_035</td>\n",
       "      <td>-0.58</td>\n",
       "      <td>17452.80</td>\n",
       "      <td>41217.85</td>\n",
       "      <td>606</td>\n",
       "    </tr>\n",
       "  </tbody>\n",
       "</table>\n",
       "</div>"
      ],
      "text/plain": [
       "   influencer_id   ROI  revenue ($)  cost ($)  conversions\n",
       "49       inf_050 -0.85        94.23    610.20            9\n",
       "33       inf_034 -0.80      1993.48   9950.40          122\n",
       "39       inf_040 -0.78       429.33   1913.01           11\n",
       "38       inf_039 -0.68      4901.72  15142.35          134\n",
       "34       inf_035 -0.58     17452.80  41217.85          606"
      ]
     },
     "metadata": {},
     "output_type": "display_data"
    }
   ],
   "source": [
    "# Top 5 influencers by ROI\n",
    "top_performers = df.sort_values(by='ROI', ascending=False).head(5)\n",
    "print(\"Top 5 Influencers by ROI:\")\n",
    "display(top_performers[['influencer_id', 'ROI', 'revenue ($)', 'cost ($)', 'conversions']])\n",
    "\n",
    "# Bottom 5 influencers by ROI\n",
    "bottom_performers = df.sort_values(by='ROI', ascending=True).head(5)\n",
    "print(\"Bottom 5 Influencers by ROI:\")\n",
    "display(bottom_performers[['influencer_id', 'ROI', 'revenue ($)', 'cost ($)', 'conversions']])\n"
   ]
  },
  {
   "cell_type": "markdown",
   "id": "342564a4",
   "metadata": {},
   "source": [
    "## Step 6: Spend vs ROI – Visualizing Efficiency\n",
    "\n",
    "To better understand influencer performance, I want to examine the relationship between total spend and return on investment.\n",
    "\n",
    "This scatter plot will highlight:\n",
    "- Influencers who delivered **high ROI with low spend** — highly efficient.\n",
    "- Influencers with **high spend but low ROI** — potential waste of budget.\n",
    "- Influencers with **high spend and high ROI** — potentially scalable partners.\n",
    "\n",
    "This kind of visual helps stakeholders quickly identify which influencers should be kept, tested further, or dropped.\n"
   ]
  },
  {
   "cell_type": "code",
   "execution_count": 7,
   "id": "ab2a46cd",
   "metadata": {},
   "outputs": [
    {
     "data": {
      "image/png": "[encoded data removed]",
      "text/plain": [
       "<Figure size 1000x600 with 1 Axes>"
      ]
     },
     "metadata": {},
     "output_type": "display_data"
    }
   ],
   "source": [
    "# Scatter plot: Cost vs ROI\n",
    "plt.figure(figsize=(10, 6))\n",
    "sns.scatterplot(data=df, x='cost ($)', y='ROI', hue='conversions', palette='viridis', size='conversions', sizes=(50, 300), alpha=0.8)\n",
    "\n",
    "plt.axhline(0, color='red', linestyle='--')\n",
    "plt.title(\"Spend vs ROI – Influencer Efficiency Map\")\n",
    "plt.xlabel(\"Cost ($)\")\n",
    "plt.ylabel(\"ROI\")\n",
    "plt.legend(title='Conversions', loc='upper right')\n",
    "plt.tight_layout()\n",
    "plt.show()\n"
   ]
  },
  {
   "cell_type": "code",
   "execution_count": null,
   "id": "fbe2bc05",
   "metadata": {},
   "outputs": [],
   "source": []
  }
 ],
 "metadata": {
  "kernelspec": {
   "display_name": "Python 3",
   "language": "python",
   "name": "python3"
  },
  "language_info": {
   "codemirror_mode": {
    "name": "ipython",
    "version": 3
   },
   "file_extension": ".py",
   "mimetype": "text/x-python",
   "name": "python",
   "nbconvert_exporter": "python",
   "pygments_lexer": "ipython3",
   "version": "3.13.3"
  }
 },
 "nbformat": 4,
 "nbformat_minor": 5
}
